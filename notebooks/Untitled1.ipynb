{
 "cells": [
  {
   "cell_type": "code",
   "execution_count": null,
   "metadata": {},
   "outputs": [],
   "source": [
    "import pybullet as p\n",
    "import time\n",
    "import math\n",
    "import pybullet_data\n",
    "\n",
    "\n",
    "\n",
    "cid = p.connect(p.SHARED_MEMORY)\n",
    "if (cid < 0):\n",
    "  p.connect(p.GUI)\n",
    "\n",
    "p.setAdditionalSearchPath(pybullet_data.getDataPath())\n",
    "p.setPhysicsEngineParameter(numSolverIterations=10)\n",
    "p.setTimeStep(1. / 120.)\n",
    "logId = p.startStateLogging(p.STATE_LOGGING_PROFILE_TIMINGS, \"visualShapeBench.json\")\n",
    "#useMaximalCoordinates is much faster then the default reduced coordinates (Featherstone)\n",
    "p.loadURDF(\"plane100.urdf\", useMaximalCoordinates=True)\n",
    "#disable rendering during creation.\n",
    "p.configureDebugVisualizer(p.COV_ENABLE_RENDERING, 0)\n",
    "p.configureDebugVisualizer(p.COV_ENABLE_GUI, 0)\n",
    "#disable tinyrenderer, software (CPU) renderer, we don't use it here\n",
    "p.configureDebugVisualizer(p.COV_ENABLE_TINY_RENDERER, 0)\n",
    "\n",
    "shift = [0, -0.02, 0]\n",
    "meshScale = [10,10,10]\n",
    "\n",
    "\n",
    "\n",
    "#the visual shape and collision shape can be re-used by all createMultiBody instances (instancing)\n",
    "visualShapeId = p.createVisualShape(shapeType=p.GEOM_MESH,\n",
    "                                    fileName=\"meshes/heart.obj\",\n",
    "                                    rgbaColor=[1, 1, 1, 1],\n",
    "                                    specularColor=[0.4, .4, 0],\n",
    "                                    visualFramePosition=shift,\n",
    "                                    meshScale=meshScale)\n",
    "collisionShapeId = p.createCollisionShape(shapeType=p.GEOM_MESH,\n",
    "                                          fileName=\"meshes/heart.obj\",\n",
    "                                          collisionFramePosition=shift,\n",
    "                                          meshScale=meshScale)\n",
    "\n",
    "\n",
    "\n",
    "rangex = 1\n",
    "rangey = 1\n",
    "for i in range(rangex):\n",
    "  for j in range(rangey):\n",
    "    p.createMultiBody(baseMass=1,\n",
    "                      baseInertialFramePosition=[0, 0, 0],\n",
    "                      baseCollisionShapeIndex=collisionShapeId,\n",
    "                      baseVisualShapeIndex=visualShapeId,\n",
    "                      basePosition=[((-rangex / 2) + i) * meshScale[0] * 2,\n",
    "                                    (-rangey / 2 + j) * meshScale[1] * 2, 1],\n",
    "                      useMaximalCoordinates=True)\n",
    "p.configureDebugVisualizer(p.COV_ENABLE_RENDERING, 1)\n",
    "p.stopStateLogging(logId)\n",
    "p.setGravity(0, 0, -10)\n",
    "p.setRealTimeSimulation(1)\n",
    "\n",
    "colors = [[1, 0, 0, 1], [0, 1, 0, 1], [0, 0, 1, 1], [1, 1, 1, 1]]\n",
    "currentColor = 0\n",
    "\n",
    "while (1):\n",
    "  time.sleep(1./240.)"
   ]
  },
  {
   "cell_type": "code",
   "execution_count": null,
   "metadata": {},
   "outputs": [],
   "source": [
    "ls meshes/"
   ]
  },
  {
   "cell_type": "code",
   "execution_count": null,
   "metadata": {},
   "outputs": [],
   "source": [
    "import pybullet as p\n",
    "import time\n",
    "import pybullet_data\n",
    "from numpngw import write_apng\n",
    "from IPython.display import Image\n",
    "import numpy as np\n",
    "\n",
    "p.connect(p.GUI)\n",
    "p.setAdditionalSearchPath(pybullet_data.getDataPath())\n",
    "\n",
    "\n",
    "p.configureDebugVisualizer(p.COV_ENABLE_GUI)\n",
    "useFixedBase = True\n",
    "flags = p.URDF_INITIALIZE_SAT_FEATURES\n",
    "\n",
    "plane_pos = [0,0,-0.625]\n",
    "plane = p.loadURDF(\"plane.urdf\", plane_pos, flags = flags, useFixedBase=useFixedBase)\n",
    "table_pos = [0,0,-0.625]\n",
    "table = p.loadURDF(\"table/table.urdf\", table_pos, flags = flags, useFixedBase=useFixedBase)\n",
    "xarm = p.loadURDF(\"meshes/ur5.urdf\", flags = flags, useFixedBase=useFixedBase)\n",
    "\n",
    "table_pos = [0,1,-0.625]\n",
    "table2 = p.loadURDF(\"table/table.urdf\", table_pos, flags = flags, useFixedBase=useFixedBase)\n",
    "\n",
    "sphereRadius = 0.25\n",
    "\n",
    "p.createCollisionShape(p.GEOM_PLANE)\n",
    "colBoxId = p.createCollisionShape(p.GEOM_BOX,halfExtents=[sphereRadius, sphereRadius, sphereRadius])\n",
    "\n",
    "basePosition = [0,0.8,5]\n",
    "baseOrientation = [0,0,0,1]\n",
    "mass = 1\n",
    "visualShapeId = -1\n",
    "\n",
    "sphereUid = p.createMultiBody(mass, colBoxId, visualShapeId, basePosition,baseOrientation)\n",
    "\n",
    "#set gravity in negative z direction\n",
    "p.setGravity(0, 0, -10)\n",
    "# p.setRealTimeSimulation(1)"
   ]
  },
  {
   "cell_type": "code",
   "execution_count": null,
   "metadata": {},
   "outputs": [],
   "source": [
    "fov, aspect, nearplane, farplane = 60, 1.0, 0.01, 100\n",
    "projection_matrix = p.computeProjectionMatrixFOV(fov, aspect, nearplane, farplane)\n",
    "\n",
    "def kuka_camera():\n",
    "    # Center of mass position and orientation (of link-7)\n",
    "    com_p, com_o, _, _, _, _ = p.getLinkState(xarm, 5, computeForwardKinematics=True)\n",
    "    rot_matrix = p.getMatrixFromQuaternion(com_o)\n",
    "    rot_matrix = np.array(rot_matrix).reshape(3, 3)\n",
    "    # Initial vectors\n",
    "    init_camera_vector = (0, 0, 1) # z-axis\n",
    "    init_up_vector = (0, 1, 0) # y-axis\n",
    "    # Rotated vectors\n",
    "    camera_vector = rot_matrix.dot(init_camera_vector)\n",
    "    up_vector = rot_matrix.dot(init_up_vector)\n",
    "    view_matrix = p.computeViewMatrix(com_p, com_p + 0.1 * camera_vector, up_vector)\n",
    "    img = p.getCameraImage(1000, 1000, view_matrix, projection_matrix)\n",
    "    return img"
   ]
  },
  {
   "cell_type": "code",
   "execution_count": null,
   "metadata": {},
   "outputs": [],
   "source": [
    "while True:\n",
    "    p.setRealTimeSimulation(1)\n",
    "    kuka_camera()"
   ]
  },
  {
   "cell_type": "code",
   "execution_count": null,
   "metadata": {},
   "outputs": [],
   "source": [
    "p.disconnect()"
   ]
  },
  {
   "cell_type": "code",
   "execution_count": null,
   "metadata": {},
   "outputs": [],
   "source": [
    "p.getJointInfo(1)"
   ]
  },
  {
   "cell_type": "code",
   "execution_count": null,
   "metadata": {},
   "outputs": [],
   "source": []
  }
 ],
 "metadata": {
  "kernelspec": {
   "display_name": "Python 3",
   "language": "python",
   "name": "python3"
  },
  "language_info": {
   "codemirror_mode": {
    "name": "ipython",
    "version": 3
   },
   "file_extension": ".py",
   "mimetype": "text/x-python",
   "name": "python",
   "nbconvert_exporter": "python",
   "pygments_lexer": "ipython3",
   "version": "3.8.5"
  }
 },
 "nbformat": 4,
 "nbformat_minor": 4
}
