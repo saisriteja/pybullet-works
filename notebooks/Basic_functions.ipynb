{
 "cells": [
  {
   "cell_type": "code",
   "execution_count": 5,
   "metadata": {},
   "outputs": [],
   "source": [
    "#install the dependencies and load the necessary headers\n",
    "import pybullet as p\n",
    "import pybullet_data\n",
    "import time\n",
    "\n",
    "# add GUI when you wanted to see the output,\n",
    "# when you want to run a hundered simulations at once then go for direct\n",
    "\n",
    "physicsClient = p.connect(p.GUI)\n",
    "p.setAdditionalSearchPath(pybullet_data.getDataPath()) #optionally\n",
    "\n",
    "\n",
    "# set gravity downward(so negative z direction)\n",
    "p.setGravity(0,0,-10)"
   ]
  },
  {
   "cell_type": "code",
   "execution_count": 6,
   "metadata": {},
   "outputs": [
    {
     "data": {
      "text/plain": [
       "{'isConnected': 1, 'connectionMethod': 1}"
      ]
     },
     "execution_count": 6,
     "metadata": {},
     "output_type": "execute_result"
    }
   ],
   "source": [
    "#outputs a tuple if connected or not and about connectionMethod\n",
    "p.getConnectionInfo()"
   ]
  },
  {
   "cell_type": "code",
   "execution_count": 8,
   "metadata": {},
   "outputs": [
    {
     "data": {
      "text/plain": [
       "1"
      ]
     },
     "execution_count": 8,
     "metadata": {},
     "output_type": "execute_result"
    }
   ],
   "source": [
    "# check if the client is still connected\n",
    "p.isConnected()"
   ]
  },
  {
   "cell_type": "code",
   "execution_count": 9,
   "metadata": {},
   "outputs": [],
   "source": [
    "#to disconnect\n",
    "p.disconnect()"
   ]
  },
  {
   "cell_type": "code",
   "execution_count": 2,
   "metadata": {},
   "outputs": [],
   "source": [
    "import pybullet\n",
    "\n",
    "\n",
    "#ways to connect \n",
    "\n",
    "#no graphical interface\n",
    "client1 = pybullet.connect(pybullet.DIRECT)\n",
    "\n",
    "#GUI based\n",
    "client2 = pybullet.connect(pybullet.GUI)\n",
    "\n",
    "#This will let you execute the physics simulation and rendering in a separate process.\n",
    "client3 = pybullet.connect(pybullet.SHARED_MEMORY,1234)\n",
    "\n",
    "\n",
    "#using UDP and TCP Connections\n",
    "client4 = pybullet.connect(pybullet.UDP,\"172.168.112.1\")\n",
    "client5 = pybullet.connect(pybullet.UDP,\"localhost\", 1234)\n",
    "client6 = pybullet.connect(pybullet.TCP,\"localhost\", 6667)"
   ]
  },
  {
   "cell_type": "code",
   "execution_count": null,
   "metadata": {},
   "outputs": [],
   "source": []
  }
 ],
 "metadata": {
  "kernelspec": {
   "display_name": "Python 3",
   "language": "python",
   "name": "python3"
  },
  "language_info": {
   "codemirror_mode": {
    "name": "ipython",
    "version": 3
   },
   "file_extension": ".py",
   "mimetype": "text/x-python",
   "name": "python",
   "nbconvert_exporter": "python",
   "pygments_lexer": "ipython3",
   "version": "3.8.5"
  }
 },
 "nbformat": 4,
 "nbformat_minor": 4
}
